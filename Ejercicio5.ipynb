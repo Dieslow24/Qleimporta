{
  "nbformat": 4,
  "nbformat_minor": 0,
  "metadata": {
    "colab": {
      "provenance": [],
      "authorship_tag": "ABX9TyMQmemyQVSbXT3EmMMj7qQ7",
      "include_colab_link": true
    },
    "kernelspec": {
      "name": "python3",
      "display_name": "Python 3"
    },
    "language_info": {
      "name": "python"
    }
  },
  "cells": [
    {
      "cell_type": "markdown",
      "metadata": {
        "id": "view-in-github",
        "colab_type": "text"
      },
      "source": [
        "<a href=\"https://colab.research.google.com/github/Dieslow24/Qleimporta/blob/main/Ejercicio5.ipynb\" target=\"_parent\"><img src=\"https://colab.research.google.com/assets/colab-badge.svg\" alt=\"Open In Colab\"/></a>"
      ]
    },
    {
      "cell_type": "code",
      "execution_count": 26,
      "metadata": {
        "colab": {
          "base_uri": "https://localhost:8080/"
        },
        "id": "k7d6F93QS_qE",
        "outputId": "749dcc18-2703-48ab-8620-263eaa5b7eca"
      },
      "outputs": [
        {
          "output_type": "stream",
          "name": "stdout",
          "text": [
            "El error está en la sintaxis de la palabra primt, debería de ser con n (print)\n"
          ]
        }
      ],
      "source": [
        "'''¿Que está mal en el siguiente código?:\n",
        ">>> primt ’¡Hola, mundo!’\n",
        "File \"<stdin>\", line 1\n",
        "primt ’¡Hola, mundo!’\n",
        "^\n",
        "SyntaxError: invalid syntax\n",
        ">>>'''\n",
        "print(\"El error está en la sintaxis de la palabra primt, debería de ser con n (print)\")"
      ]
    }
  ]
}