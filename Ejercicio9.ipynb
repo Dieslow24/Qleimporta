{
  "nbformat": 4,
  "nbformat_minor": 0,
  "metadata": {
    "colab": {
      "provenance": [],
      "authorship_tag": "ABX9TyMGQawo7X3AdD4EvH9X+CfA",
      "include_colab_link": true
    },
    "kernelspec": {
      "name": "python3",
      "display_name": "Python 3"
    },
    "language_info": {
      "name": "python"
    }
  },
  "cells": [
    {
      "cell_type": "markdown",
      "metadata": {
        "id": "view-in-github",
        "colab_type": "text"
      },
      "source": [
        "<a href=\"https://colab.research.google.com/github/Dieslow24/Qleimporta/blob/main/Ejercicio9.ipynb\" target=\"_parent\"><img src=\"https://colab.research.google.com/assets/colab-badge.svg\" alt=\"Open In Colab\"/></a>"
      ]
    },
    {
      "cell_type": "code",
      "execution_count": 1,
      "metadata": {
        "colab": {
          "base_uri": "https://localhost:8080/"
        },
        "id": "BbWKolSl5ntI",
        "outputId": "fdb0b758-43a1-4dd9-94ee-f9594f268ce8"
      },
      "outputs": [
        {
          "output_type": "stream",
          "name": "stdout",
          "text": [
            "¿Cómo puedes corregir un “Error de sintaxis”?\n",
            "\n",
            "Respuesta: Para corregir el error debes de leer detenidamente\n",
            "la respuesta que te da el sistema y corregir la linea del código indicada\n"
          ]
        }
      ],
      "source": [
        "print(\"¿Cómo puedes corregir un “Error de sintaxis”?\")\n",
        "print(\"\\nRespuesta: Para corregir el error debes de leer detenidamente\\nla respuesta que te da el sistema y corregir la linea del código indicada\")"
      ]
    }
  ]
}