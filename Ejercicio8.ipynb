{
  "nbformat": 4,
  "nbformat_minor": 0,
  "metadata": {
    "colab": {
      "provenance": [],
      "authorship_tag": "ABX9TyMdCIK1hx7X4r3l4+Ncsy2y",
      "include_colab_link": true
    },
    "kernelspec": {
      "name": "python3",
      "display_name": "Python 3"
    },
    "language_info": {
      "name": "python"
    }
  },
  "cells": [
    {
      "cell_type": "markdown",
      "metadata": {
        "id": "view-in-github",
        "colab_type": "text"
      },
      "source": [
        "<a href=\"https://colab.research.google.com/github/Dieslow24/Qleimporta/blob/main/Ejercicio8.ipynb\" target=\"_parent\"><img src=\"https://colab.research.google.com/assets/colab-badge.svg\" alt=\"Open In Colab\"/></a>"
      ]
    },
    {
      "cell_type": "code",
      "execution_count": 35,
      "metadata": {
        "colab": {
          "base_uri": "https://localhost:8080/"
        },
        "id": "k7d6F93QS_qE",
        "outputId": "9e6d7c25-7780-450f-e5d8-103c385dfd28"
      },
      "outputs": [
        {
          "output_type": "stream",
          "name": "stdout",
          "text": [
            "Explica cada uno de los siguientes conceptos usando un ejemplo de una capacidad humana:\n",
            "\n",
            "1. Unidad central de procesamiento.\n",
            "Respuesta: el cerebro\n",
            "\n",
            "2. Memoria principal.\n",
            "Respuesta: también el cerebro\n",
            "\n",
            "3. Memoria secundaria.\n",
            "Respuesta: los músculos por medio de la memoria muscular\n",
            "\n",
            "4. Dispositivos de entrada.\n",
            "Respuesta: Ojos y oídos\n",
            "\n",
            "5. Dispositivos de salida.\n",
            "Respuesta: manos, pies y boca\n"
          ]
        }
      ],
      "source": [
        "print(\"Explica cada uno de los siguientes conceptos usando un ejemplo de una capacidad humana:\")\n",
        "print(\"\\n1. Unidad central de procesamiento.\\nRespuesta: el cerebro\")\n",
        "print(\"\\n2. Memoria principal.\\nRespuesta: también el cerebro\")\n",
        "print(\"\\n3. Memoria secundaria.\\nRespuesta: los músculos por medio de la memoria muscular\")\n",
        "print(\"\\n4. Dispositivos de entrada.\\nRespuesta: Ojos y oídos\")\n",
        "print(\"\\n5. Dispositivos de salida.\\nRespuesta: manos, pies y boca\")"
      ]
    }
  ]
}