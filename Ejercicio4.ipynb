{
  "nbformat": 4,
  "nbformat_minor": 0,
  "metadata": {
    "colab": {
      "provenance": [],
      "authorship_tag": "ABX9TyODrPWTt+RX7Qj5Fz9gduIb",
      "include_colab_link": true
    },
    "kernelspec": {
      "name": "python3",
      "display_name": "Python 3"
    },
    "language_info": {
      "name": "python"
    }
  },
  "cells": [
    {
      "cell_type": "markdown",
      "metadata": {
        "id": "view-in-github",
        "colab_type": "text"
      },
      "source": [
        "<a href=\"https://colab.research.google.com/github/Dieslow24/Qleimporta/blob/main/Ejercicio4.ipynb\" target=\"_parent\"><img src=\"https://colab.research.google.com/assets/colab-badge.svg\" alt=\"Open In Colab\"/></a>"
      ]
    },
    {
      "cell_type": "code",
      "execution_count": 9,
      "metadata": {
        "colab": {
          "base_uri": "https://localhost:8080/"
        },
        "id": "k7d6F93QS_qE",
        "outputId": "8feefc81-9d95-4d15-ae27-4ef21c70d681"
      },
      "outputs": [
        {
          "output_type": "stream",
          "name": "stdout",
          "text": [
            "¿Cuál de los siguientes contiene código máquina? \n",
            " a)el intérprete de python.\n",
            " b)el teclado.\n",
            " c)el código fuente de python.\n",
            " d)un documento de un procesador de texto\n",
            "\n",
            " Respuesta: c)el código fuente de python\n"
          ]
        }
      ],
      "source": [
        "print(\"¿Cuál de los siguientes contiene código máquina? \\n a)el intérprete de python.\\n b)el teclado.\\n c)el código fuente de python.\\n d)un documento de un procesador de texto\")\n",
        "'''Respuesta'''\n",
        "print(\"\\n Respuesta: c)el código fuente de python\")"
      ]
    }
  ]
}