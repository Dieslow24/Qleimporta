{
  "nbformat": 4,
  "nbformat_minor": 0,
  "metadata": {
    "colab": {
      "provenance": [],
      "authorship_tag": "ABX9TyOotJ9fAHbs3gSFj5ayjvut",
      "include_colab_link": true
    },
    "kernelspec": {
      "name": "python3",
      "display_name": "Python 3"
    },
    "language_info": {
      "name": "python"
    }
  },
  "cells": [
    {
      "cell_type": "markdown",
      "metadata": {
        "id": "view-in-github",
        "colab_type": "text"
      },
      "source": [
        "<a href=\"https://colab.research.google.com/github/Dieslow24/Qleimporta/blob/main/Ejercicio3.ipynb\" target=\"_parent\"><img src=\"https://colab.research.google.com/assets/colab-badge.svg\" alt=\"Open In Colab\"/></a>"
      ]
    },
    {
      "cell_type": "code",
      "execution_count": 5,
      "metadata": {
        "colab": {
          "base_uri": "https://localhost:8080/"
        },
        "id": "k7d6F93QS_qE",
        "outputId": "2cc61ea9-e809-4d5c-d7d9-37ba2cb4f9de"
      },
      "outputs": [
        {
          "output_type": "stream",
          "name": "stdout",
          "text": [
            "¿Cuál es la diferencia entre un compilador y un intérprete?\n",
            "un intérprete lee el código fuente de los programas tal y como han sido escritos por el programador, e interpreta sus instrucciones sobre la marcha. Mientras que el compilador guarda el programa completo en un fichero, lo traduce a código máquina y guarda ese código en otro fichero para su ejecución\n"
          ]
        }
      ],
      "source": [
        "print(\"¿Cuál es la diferencia entre un compilador y un intérprete?\")\n",
        "'''Respuesta:'''\n",
        "print(\"un intérprete lee el código fuente de los programas tal y como han sido escritos por el programador, e interpreta sus instrucciones sobre la marcha. Mientras que el compilador guarda el programa completo en un fichero, lo traduce a código máquina y guarda ese código en otro fichero para su ejecución\")"
      ]
    }
  ]
}