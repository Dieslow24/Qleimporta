{
  "nbformat": 4,
  "nbformat_minor": 0,
  "metadata": {
    "colab": {
      "provenance": [],
      "authorship_tag": "ABX9TyMBpD3eTb6PtS9QMQJBd5TY",
      "include_colab_link": true
    },
    "kernelspec": {
      "name": "python3",
      "display_name": "Python 3"
    },
    "language_info": {
      "name": "python"
    }
  },
  "cells": [
    {
      "cell_type": "markdown",
      "metadata": {
        "id": "view-in-github",
        "colab_type": "text"
      },
      "source": [
        "<a href=\"https://colab.research.google.com/github/Dieslow24/Qleimporta/blob/main/Ejercicio6.ipynb\" target=\"_parent\"><img src=\"https://colab.research.google.com/assets/colab-badge.svg\" alt=\"Open In Colab\"/></a>"
      ]
    },
    {
      "cell_type": "code",
      "execution_count": 30,
      "metadata": {
        "colab": {
          "base_uri": "https://localhost:8080/"
        },
        "id": "k7d6F93QS_qE",
        "outputId": "ff1f054c-a839-4455-a4f2-c56a2a6d3942"
      },
      "outputs": [
        {
          "output_type": "stream",
          "name": "stdout",
          "text": [
            "¿En qué lugar del computador queda almacenada una variable, como en este caso “x”,\n",
            "después de ejecutar la siguiente línea de Python?:\n",
            "x = 123\n",
            "\n",
            "a) Unidad central de procesamiento.\n",
            "b) Memoria Principal.\n",
            "c) Memoria Secundaria.\n",
            "d) Dispositivos de Entrada.\n",
            "e) Dispositivos de Salida.\n",
            "\n",
            "Respuesta: b) Memoria principal\n"
          ]
        }
      ],
      "source": [
        "print(\"¿En qué lugar del computador queda almacenada una variable, como en este caso “x”,\\ndespués de ejecutar la siguiente línea de Python?:\\nx = 123\")\n",
        "print(\"\\na) Unidad central de procesamiento.\\nb) Memoria Principal.\\nc) Memoria Secundaria.\\nd) Dispositivos de Entrada.\\ne) Dispositivos de Salida.\")\n",
        "print(\"\\nRespuesta: b) Memoria principal\")"
      ]
    }
  ]
}