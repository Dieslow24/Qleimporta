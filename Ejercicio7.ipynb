{
  "nbformat": 4,
  "nbformat_minor": 0,
  "metadata": {
    "colab": {
      "provenance": [],
      "authorship_tag": "ABX9TyNdtFVbTn/5FmxDl1sgYe72"
    },
    "kernelspec": {
      "name": "python3",
      "display_name": "Python 3"
    },
    "language_info": {
      "name": "python"
    }
  },
  "cells": [
    {
      "cell_type": "code",
      "execution_count": 34,
      "metadata": {
        "colab": {
          "base_uri": "https://localhost:8080/"
        },
        "id": "k7d6F93QS_qE",
        "outputId": "af54f524-0405-4d49-b998-a86b4ba333e7"
      },
      "outputs": [
        {
          "output_type": "stream",
          "name": "stdout",
          "text": [
            "¿Qué mostrará en pantalla el siguiente programa?:\n",
            "x = 43\n",
            "x = x + 1\n",
            "print(x)\n",
            "\n",
            "Respuesta: b)44\n"
          ]
        }
      ],
      "source": [
        "\n",
        "print(\"¿Qué mostrará en pantalla el siguiente programa?:\\nx = 43\\nx = x + 1\\nprint(x)\")\n",
        "'''a) 43.\n",
        "b) 44.\n",
        "c) x + 1.\n",
        "d) Error, porque x = x + 1 no es posible matem´aticamente.'''\n",
        "print(\"\\nRespuesta: b)44\")"
      ]
    }
  ]
}