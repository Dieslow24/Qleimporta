{
  "nbformat": 4,
  "nbformat_minor": 0,
  "metadata": {
    "colab": {
      "provenance": [],
      "authorship_tag": "ABX9TyPWRDZ813cDoMhBxbfn6O1n",
      "include_colab_link": true
    },
    "kernelspec": {
      "name": "python3",
      "display_name": "Python 3"
    },
    "language_info": {
      "name": "python"
    }
  },
  "cells": [
    {
      "cell_type": "markdown",
      "metadata": {
        "id": "view-in-github",
        "colab_type": "text"
      },
      "source": [
        "<a href=\"https://colab.research.google.com/github/Dieslow24/Qleimporta/blob/main/Problema2.ipynb\" target=\"_parent\"><img src=\"https://colab.research.google.com/assets/colab-badge.svg\" alt=\"Open In Colab\"/></a>"
      ]
    },
    {
      "cell_type": "code",
      "execution_count": 2,
      "metadata": {
        "colab": {
          "base_uri": "https://localhost:8080/"
        },
        "id": "k7d6F93QS_qE",
        "outputId": "c57faaa3-4025-40bd-a300-47697c907371"
      },
      "outputs": [
        {
          "output_type": "stream",
          "name": "stdout",
          "text": [
            "¿Qué es un programa?\n",
            "es una secuencia de declaraciones que han sido diseñadas para hacer algo\n"
          ]
        }
      ],
      "source": [
        "print('¿Qué es un programa?')\n",
        "'''Respuesta'''\n",
        "print('es una secuencia de declaraciones que han sido diseñadas para hacer algo')"
      ]
    }
  ]
}